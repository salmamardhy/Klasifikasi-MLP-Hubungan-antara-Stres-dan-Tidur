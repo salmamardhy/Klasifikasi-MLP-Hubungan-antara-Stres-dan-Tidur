{
  "nbformat": 4,
  "nbformat_minor": 0,
  "metadata": {
    "colab": {
      "provenance": []
    },
    "kernelspec": {
      "name": "python3",
      "display_name": "Python 3"
    },
    "language_info": {
      "name": "python"
    }
  },
  "cells": [
    {
      "cell_type": "markdown",
      "source": [
        "### **Pengantar Pembelajaran Mesin - Dr. Bambang Heru Iswanto** <br>\n",
        "\n",
        "### **Kelompok 4 - Fisika B 2021**\n",
        "### 1. Khansa Farras Callista (1306621067)<br>\n",
        "### 2. Salma Mardhiyah (1306621061) <br>\n",
        "\n",
        "---\n",
        "\n"
      ],
      "metadata": {
        "id": "U-X1mirZXk0A"
      }
    },
    {
      "cell_type": "markdown",
      "source": [
        "#**UTS - Artificial Neural Networks 2 (Project)**"
      ],
      "metadata": {
        "id": "4hVaYflLX61F"
      }
    },
    {
      "cell_type": "markdown",
      "source": [
        "### **PENGUMPULAN DATA**"
      ],
      "metadata": {
        "id": "MZPGd9mndL8p"
      }
    },
    {
      "cell_type": "markdown",
      "source": [
        "Dataset pada tugas TP1 tidak dapat digunakan untuk projek ini dikarenakan dataset tersebut membahas terkait real estate/perumahan yang digunakan untuk mencari regresi yaitu prediksi harga dari rumah/real estate.\n",
        "\n",
        "Dataset projek ini didapatkan dari jurnal oleh Rachakonda pada tahun 2021 mengenai SaYoPillow. SaYoPillow ini merupakan SaYoPillow diusulkan untuk membantu dalam memahami hubungan antara stres dan tidur dan untuk sepenuhnya mewujudkan gagasan \"Smart-Sleeping\" dengan mengusulkan perangkat tepi. Berdasarkan ini, perilaku selama tidur dapat memprediksi kelas stres.\n",
        "\n",
        "Sumber :\n",
        "- https://www.kaggle.com/datasets/laavanya/human-stress-detection-in-and-through-sleep/data\n",
        "- L. Rachakonda, A. K. Bapatla, S. P. Mohanty, and E. Kougianos, “SaYoPillow: Blockchain-Integrated Privacy-Assured IoMT Framework for Stress Management Considering Sleeping Habits”, IEEE Transactions on Consumer Electronics (TCE), Vol. 67, No. 1, Feb 2021, pp. 20-29."
      ],
      "metadata": {
        "id": "MDnqHhw2AJrm"
      }
    },
    {
      "cell_type": "markdown",
      "source": [
        "**TUJUAN PROJEK** <br>\n",
        "Dalam proyek ini, kami bertujuan untuk memanfaatkan kumpulan data yang berisi berbagai pengukuran fisiologis selama tidur untuk memprediksi tingkat stres yang dialami individu."
      ],
      "metadata": {
        "id": "8Hhauf0dCsbK"
      }
    },
    {
      "cell_type": "code",
      "execution_count": 2010,
      "metadata": {
        "id": "ElZeKw3bRUrd"
      },
      "outputs": [],
      "source": [
        "# Mengimport library yang dibutuhkan\n",
        "import numpy as np\n",
        "import matplotlib.pyplot as plt\n",
        "import pandas as pd\n",
        "import seaborn as sns\n",
        "from sklearn.model_selection import train_test_split"
      ]
    },
    {
      "cell_type": "code",
      "source": [
        "data = pd.read_csv('Human_Stress_Detection.csv')\n",
        "data.head()"
      ],
      "metadata": {
        "colab": {
          "base_uri": "https://localhost:8080/",
          "height": 206
        },
        "id": "JmMb4ChnRcUX",
        "outputId": "f7a8aeef-ca0e-47aa-8836-322142cb3226"
      },
      "execution_count": 2011,
      "outputs": [
        {
          "output_type": "execute_result",
          "data": {
            "text/plain": [
              "      sr      rr       t      lm      bo    rem   sr.1     hr  sl\n",
              "0  93.80  25.680  91.840  16.600  89.840  99.60  1.840  74.20   3\n",
              "1  91.64  25.104  91.552  15.880  89.552  98.88  1.552  72.76   3\n",
              "2  60.00  20.000  96.000  10.000  95.000  85.00  7.000  60.00   1\n",
              "3  85.76  23.536  90.768  13.920  88.768  96.92  0.768  68.84   3\n",
              "4  48.12  17.248  97.872   6.496  96.248  72.48  8.248  53.12   0"
            ],
            "text/html": [
              "\n",
              "  <div id=\"df-d1028745-49db-49bb-952a-11ec55ea25fe\" class=\"colab-df-container\">\n",
              "    <div>\n",
              "<style scoped>\n",
              "    .dataframe tbody tr th:only-of-type {\n",
              "        vertical-align: middle;\n",
              "    }\n",
              "\n",
              "    .dataframe tbody tr th {\n",
              "        vertical-align: top;\n",
              "    }\n",
              "\n",
              "    .dataframe thead th {\n",
              "        text-align: right;\n",
              "    }\n",
              "</style>\n",
              "<table border=\"1\" class=\"dataframe\">\n",
              "  <thead>\n",
              "    <tr style=\"text-align: right;\">\n",
              "      <th></th>\n",
              "      <th>sr</th>\n",
              "      <th>rr</th>\n",
              "      <th>t</th>\n",
              "      <th>lm</th>\n",
              "      <th>bo</th>\n",
              "      <th>rem</th>\n",
              "      <th>sr.1</th>\n",
              "      <th>hr</th>\n",
              "      <th>sl</th>\n",
              "    </tr>\n",
              "  </thead>\n",
              "  <tbody>\n",
              "    <tr>\n",
              "      <th>0</th>\n",
              "      <td>93.80</td>\n",
              "      <td>25.680</td>\n",
              "      <td>91.840</td>\n",
              "      <td>16.600</td>\n",
              "      <td>89.840</td>\n",
              "      <td>99.60</td>\n",
              "      <td>1.840</td>\n",
              "      <td>74.20</td>\n",
              "      <td>3</td>\n",
              "    </tr>\n",
              "    <tr>\n",
              "      <th>1</th>\n",
              "      <td>91.64</td>\n",
              "      <td>25.104</td>\n",
              "      <td>91.552</td>\n",
              "      <td>15.880</td>\n",
              "      <td>89.552</td>\n",
              "      <td>98.88</td>\n",
              "      <td>1.552</td>\n",
              "      <td>72.76</td>\n",
              "      <td>3</td>\n",
              "    </tr>\n",
              "    <tr>\n",
              "      <th>2</th>\n",
              "      <td>60.00</td>\n",
              "      <td>20.000</td>\n",
              "      <td>96.000</td>\n",
              "      <td>10.000</td>\n",
              "      <td>95.000</td>\n",
              "      <td>85.00</td>\n",
              "      <td>7.000</td>\n",
              "      <td>60.00</td>\n",
              "      <td>1</td>\n",
              "    </tr>\n",
              "    <tr>\n",
              "      <th>3</th>\n",
              "      <td>85.76</td>\n",
              "      <td>23.536</td>\n",
              "      <td>90.768</td>\n",
              "      <td>13.920</td>\n",
              "      <td>88.768</td>\n",
              "      <td>96.92</td>\n",
              "      <td>0.768</td>\n",
              "      <td>68.84</td>\n",
              "      <td>3</td>\n",
              "    </tr>\n",
              "    <tr>\n",
              "      <th>4</th>\n",
              "      <td>48.12</td>\n",
              "      <td>17.248</td>\n",
              "      <td>97.872</td>\n",
              "      <td>6.496</td>\n",
              "      <td>96.248</td>\n",
              "      <td>72.48</td>\n",
              "      <td>8.248</td>\n",
              "      <td>53.12</td>\n",
              "      <td>0</td>\n",
              "    </tr>\n",
              "  </tbody>\n",
              "</table>\n",
              "</div>\n",
              "    <div class=\"colab-df-buttons\">\n",
              "\n",
              "  <div class=\"colab-df-container\">\n",
              "    <button class=\"colab-df-convert\" onclick=\"convertToInteractive('df-d1028745-49db-49bb-952a-11ec55ea25fe')\"\n",
              "            title=\"Convert this dataframe to an interactive table.\"\n",
              "            style=\"display:none;\">\n",
              "\n",
              "  <svg xmlns=\"http://www.w3.org/2000/svg\" height=\"24px\" viewBox=\"0 -960 960 960\">\n",
              "    <path d=\"M120-120v-720h720v720H120Zm60-500h600v-160H180v160Zm220 220h160v-160H400v160Zm0 220h160v-160H400v160ZM180-400h160v-160H180v160Zm440 0h160v-160H620v160ZM180-180h160v-160H180v160Zm440 0h160v-160H620v160Z\"/>\n",
              "  </svg>\n",
              "    </button>\n",
              "\n",
              "  <style>\n",
              "    .colab-df-container {\n",
              "      display:flex;\n",
              "      gap: 12px;\n",
              "    }\n",
              "\n",
              "    .colab-df-convert {\n",
              "      background-color: #E8F0FE;\n",
              "      border: none;\n",
              "      border-radius: 50%;\n",
              "      cursor: pointer;\n",
              "      display: none;\n",
              "      fill: #1967D2;\n",
              "      height: 32px;\n",
              "      padding: 0 0 0 0;\n",
              "      width: 32px;\n",
              "    }\n",
              "\n",
              "    .colab-df-convert:hover {\n",
              "      background-color: #E2EBFA;\n",
              "      box-shadow: 0px 1px 2px rgba(60, 64, 67, 0.3), 0px 1px 3px 1px rgba(60, 64, 67, 0.15);\n",
              "      fill: #174EA6;\n",
              "    }\n",
              "\n",
              "    .colab-df-buttons div {\n",
              "      margin-bottom: 4px;\n",
              "    }\n",
              "\n",
              "    [theme=dark] .colab-df-convert {\n",
              "      background-color: #3B4455;\n",
              "      fill: #D2E3FC;\n",
              "    }\n",
              "\n",
              "    [theme=dark] .colab-df-convert:hover {\n",
              "      background-color: #434B5C;\n",
              "      box-shadow: 0px 1px 3px 1px rgba(0, 0, 0, 0.15);\n",
              "      filter: drop-shadow(0px 1px 2px rgba(0, 0, 0, 0.3));\n",
              "      fill: #FFFFFF;\n",
              "    }\n",
              "  </style>\n",
              "\n",
              "    <script>\n",
              "      const buttonEl =\n",
              "        document.querySelector('#df-d1028745-49db-49bb-952a-11ec55ea25fe button.colab-df-convert');\n",
              "      buttonEl.style.display =\n",
              "        google.colab.kernel.accessAllowed ? 'block' : 'none';\n",
              "\n",
              "      async function convertToInteractive(key) {\n",
              "        const element = document.querySelector('#df-d1028745-49db-49bb-952a-11ec55ea25fe');\n",
              "        const dataTable =\n",
              "          await google.colab.kernel.invokeFunction('convertToInteractive',\n",
              "                                                    [key], {});\n",
              "        if (!dataTable) return;\n",
              "\n",
              "        const docLinkHtml = 'Like what you see? Visit the ' +\n",
              "          '<a target=\"_blank\" href=https://colab.research.google.com/notebooks/data_table.ipynb>data table notebook</a>'\n",
              "          + ' to learn more about interactive tables.';\n",
              "        element.innerHTML = '';\n",
              "        dataTable['output_type'] = 'display_data';\n",
              "        await google.colab.output.renderOutput(dataTable, element);\n",
              "        const docLink = document.createElement('div');\n",
              "        docLink.innerHTML = docLinkHtml;\n",
              "        element.appendChild(docLink);\n",
              "      }\n",
              "    </script>\n",
              "  </div>\n",
              "\n",
              "\n",
              "<div id=\"df-2a606b06-f156-4ca3-9331-87f82d303d98\">\n",
              "  <button class=\"colab-df-quickchart\" onclick=\"quickchart('df-2a606b06-f156-4ca3-9331-87f82d303d98')\"\n",
              "            title=\"Suggest charts.\"\n",
              "            style=\"display:none;\">\n",
              "\n",
              "<svg xmlns=\"http://www.w3.org/2000/svg\" height=\"24px\"viewBox=\"0 0 24 24\"\n",
              "     width=\"24px\">\n",
              "    <g>\n",
              "        <path d=\"M19 3H5c-1.1 0-2 .9-2 2v14c0 1.1.9 2 2 2h14c1.1 0 2-.9 2-2V5c0-1.1-.9-2-2-2zM9 17H7v-7h2v7zm4 0h-2V7h2v10zm4 0h-2v-4h2v4z\"/>\n",
              "    </g>\n",
              "</svg>\n",
              "  </button>\n",
              "\n",
              "<style>\n",
              "  .colab-df-quickchart {\n",
              "      --bg-color: #E8F0FE;\n",
              "      --fill-color: #1967D2;\n",
              "      --hover-bg-color: #E2EBFA;\n",
              "      --hover-fill-color: #174EA6;\n",
              "      --disabled-fill-color: #AAA;\n",
              "      --disabled-bg-color: #DDD;\n",
              "  }\n",
              "\n",
              "  [theme=dark] .colab-df-quickchart {\n",
              "      --bg-color: #3B4455;\n",
              "      --fill-color: #D2E3FC;\n",
              "      --hover-bg-color: #434B5C;\n",
              "      --hover-fill-color: #FFFFFF;\n",
              "      --disabled-bg-color: #3B4455;\n",
              "      --disabled-fill-color: #666;\n",
              "  }\n",
              "\n",
              "  .colab-df-quickchart {\n",
              "    background-color: var(--bg-color);\n",
              "    border: none;\n",
              "    border-radius: 50%;\n",
              "    cursor: pointer;\n",
              "    display: none;\n",
              "    fill: var(--fill-color);\n",
              "    height: 32px;\n",
              "    padding: 0;\n",
              "    width: 32px;\n",
              "  }\n",
              "\n",
              "  .colab-df-quickchart:hover {\n",
              "    background-color: var(--hover-bg-color);\n",
              "    box-shadow: 0 1px 2px rgba(60, 64, 67, 0.3), 0 1px 3px 1px rgba(60, 64, 67, 0.15);\n",
              "    fill: var(--button-hover-fill-color);\n",
              "  }\n",
              "\n",
              "  .colab-df-quickchart-complete:disabled,\n",
              "  .colab-df-quickchart-complete:disabled:hover {\n",
              "    background-color: var(--disabled-bg-color);\n",
              "    fill: var(--disabled-fill-color);\n",
              "    box-shadow: none;\n",
              "  }\n",
              "\n",
              "  .colab-df-spinner {\n",
              "    border: 2px solid var(--fill-color);\n",
              "    border-color: transparent;\n",
              "    border-bottom-color: var(--fill-color);\n",
              "    animation:\n",
              "      spin 1s steps(1) infinite;\n",
              "  }\n",
              "\n",
              "  @keyframes spin {\n",
              "    0% {\n",
              "      border-color: transparent;\n",
              "      border-bottom-color: var(--fill-color);\n",
              "      border-left-color: var(--fill-color);\n",
              "    }\n",
              "    20% {\n",
              "      border-color: transparent;\n",
              "      border-left-color: var(--fill-color);\n",
              "      border-top-color: var(--fill-color);\n",
              "    }\n",
              "    30% {\n",
              "      border-color: transparent;\n",
              "      border-left-color: var(--fill-color);\n",
              "      border-top-color: var(--fill-color);\n",
              "      border-right-color: var(--fill-color);\n",
              "    }\n",
              "    40% {\n",
              "      border-color: transparent;\n",
              "      border-right-color: var(--fill-color);\n",
              "      border-top-color: var(--fill-color);\n",
              "    }\n",
              "    60% {\n",
              "      border-color: transparent;\n",
              "      border-right-color: var(--fill-color);\n",
              "    }\n",
              "    80% {\n",
              "      border-color: transparent;\n",
              "      border-right-color: var(--fill-color);\n",
              "      border-bottom-color: var(--fill-color);\n",
              "    }\n",
              "    90% {\n",
              "      border-color: transparent;\n",
              "      border-bottom-color: var(--fill-color);\n",
              "    }\n",
              "  }\n",
              "</style>\n",
              "\n",
              "  <script>\n",
              "    async function quickchart(key) {\n",
              "      const quickchartButtonEl =\n",
              "        document.querySelector('#' + key + ' button');\n",
              "      quickchartButtonEl.disabled = true;  // To prevent multiple clicks.\n",
              "      quickchartButtonEl.classList.add('colab-df-spinner');\n",
              "      try {\n",
              "        const charts = await google.colab.kernel.invokeFunction(\n",
              "            'suggestCharts', [key], {});\n",
              "      } catch (error) {\n",
              "        console.error('Error during call to suggestCharts:', error);\n",
              "      }\n",
              "      quickchartButtonEl.classList.remove('colab-df-spinner');\n",
              "      quickchartButtonEl.classList.add('colab-df-quickchart-complete');\n",
              "    }\n",
              "    (() => {\n",
              "      let quickchartButtonEl =\n",
              "        document.querySelector('#df-2a606b06-f156-4ca3-9331-87f82d303d98 button');\n",
              "      quickchartButtonEl.style.display =\n",
              "        google.colab.kernel.accessAllowed ? 'block' : 'none';\n",
              "    })();\n",
              "  </script>\n",
              "</div>\n",
              "    </div>\n",
              "  </div>\n"
            ]
          },
          "metadata": {},
          "execution_count": 2011
        }
      ]
    },
    {
      "cell_type": "markdown",
      "source": [
        "**DESKRIPSI ATRIBUT/FITUR DATASET**\n"
      ],
      "metadata": {
        "id": "YlKphYCGBVmj"
      }
    },
    {
      "cell_type": "code",
      "source": [
        "# Mengganti nama kolom DataFrame agar lebih mudah dibaca dan dipahami\n",
        "data.columns=['snoring_rate', 'respiration_rate', 'body_temperature', 'limb_movement', 'blood_oxygen', \\\n",
        "             'eye_movement', 'sleeping_hours', 'heart_rate', 'stress_level']\n",
        "data.head()"
      ],
      "metadata": {
        "colab": {
          "base_uri": "https://localhost:8080/",
          "height": 206
        },
        "id": "i4MEM5Bra_BX",
        "outputId": "4bfd8358-7b28-4f46-b385-e454099e9686"
      },
      "execution_count": 2012,
      "outputs": [
        {
          "output_type": "execute_result",
          "data": {
            "text/plain": [
              "   snoring_rate  respiration_rate  body_temperature  limb_movement  \\\n",
              "0         93.80            25.680            91.840         16.600   \n",
              "1         91.64            25.104            91.552         15.880   \n",
              "2         60.00            20.000            96.000         10.000   \n",
              "3         85.76            23.536            90.768         13.920   \n",
              "4         48.12            17.248            97.872          6.496   \n",
              "\n",
              "   blood_oxygen  eye_movement  sleeping_hours  heart_rate  stress_level  \n",
              "0        89.840         99.60           1.840       74.20             3  \n",
              "1        89.552         98.88           1.552       72.76             3  \n",
              "2        95.000         85.00           7.000       60.00             1  \n",
              "3        88.768         96.92           0.768       68.84             3  \n",
              "4        96.248         72.48           8.248       53.12             0  "
            ],
            "text/html": [
              "\n",
              "  <div id=\"df-0b72e9f9-81f7-4a70-a92f-f36f4d8d8b0d\" class=\"colab-df-container\">\n",
              "    <div>\n",
              "<style scoped>\n",
              "    .dataframe tbody tr th:only-of-type {\n",
              "        vertical-align: middle;\n",
              "    }\n",
              "\n",
              "    .dataframe tbody tr th {\n",
              "        vertical-align: top;\n",
              "    }\n",
              "\n",
              "    .dataframe thead th {\n",
              "        text-align: right;\n",
              "    }\n",
              "</style>\n",
              "<table border=\"1\" class=\"dataframe\">\n",
              "  <thead>\n",
              "    <tr style=\"text-align: right;\">\n",
              "      <th></th>\n",
              "      <th>snoring_rate</th>\n",
              "      <th>respiration_rate</th>\n",
              "      <th>body_temperature</th>\n",
              "      <th>limb_movement</th>\n",
              "      <th>blood_oxygen</th>\n",
              "      <th>eye_movement</th>\n",
              "      <th>sleeping_hours</th>\n",
              "      <th>heart_rate</th>\n",
              "      <th>stress_level</th>\n",
              "    </tr>\n",
              "  </thead>\n",
              "  <tbody>\n",
              "    <tr>\n",
              "      <th>0</th>\n",
              "      <td>93.80</td>\n",
              "      <td>25.680</td>\n",
              "      <td>91.840</td>\n",
              "      <td>16.600</td>\n",
              "      <td>89.840</td>\n",
              "      <td>99.60</td>\n",
              "      <td>1.840</td>\n",
              "      <td>74.20</td>\n",
              "      <td>3</td>\n",
              "    </tr>\n",
              "    <tr>\n",
              "      <th>1</th>\n",
              "      <td>91.64</td>\n",
              "      <td>25.104</td>\n",
              "      <td>91.552</td>\n",
              "      <td>15.880</td>\n",
              "      <td>89.552</td>\n",
              "      <td>98.88</td>\n",
              "      <td>1.552</td>\n",
              "      <td>72.76</td>\n",
              "      <td>3</td>\n",
              "    </tr>\n",
              "    <tr>\n",
              "      <th>2</th>\n",
              "      <td>60.00</td>\n",
              "      <td>20.000</td>\n",
              "      <td>96.000</td>\n",
              "      <td>10.000</td>\n",
              "      <td>95.000</td>\n",
              "      <td>85.00</td>\n",
              "      <td>7.000</td>\n",
              "      <td>60.00</td>\n",
              "      <td>1</td>\n",
              "    </tr>\n",
              "    <tr>\n",
              "      <th>3</th>\n",
              "      <td>85.76</td>\n",
              "      <td>23.536</td>\n",
              "      <td>90.768</td>\n",
              "      <td>13.920</td>\n",
              "      <td>88.768</td>\n",
              "      <td>96.92</td>\n",
              "      <td>0.768</td>\n",
              "      <td>68.84</td>\n",
              "      <td>3</td>\n",
              "    </tr>\n",
              "    <tr>\n",
              "      <th>4</th>\n",
              "      <td>48.12</td>\n",
              "      <td>17.248</td>\n",
              "      <td>97.872</td>\n",
              "      <td>6.496</td>\n",
              "      <td>96.248</td>\n",
              "      <td>72.48</td>\n",
              "      <td>8.248</td>\n",
              "      <td>53.12</td>\n",
              "      <td>0</td>\n",
              "    </tr>\n",
              "  </tbody>\n",
              "</table>\n",
              "</div>\n",
              "    <div class=\"colab-df-buttons\">\n",
              "\n",
              "  <div class=\"colab-df-container\">\n",
              "    <button class=\"colab-df-convert\" onclick=\"convertToInteractive('df-0b72e9f9-81f7-4a70-a92f-f36f4d8d8b0d')\"\n",
              "            title=\"Convert this dataframe to an interactive table.\"\n",
              "            style=\"display:none;\">\n",
              "\n",
              "  <svg xmlns=\"http://www.w3.org/2000/svg\" height=\"24px\" viewBox=\"0 -960 960 960\">\n",
              "    <path d=\"M120-120v-720h720v720H120Zm60-500h600v-160H180v160Zm220 220h160v-160H400v160Zm0 220h160v-160H400v160ZM180-400h160v-160H180v160Zm440 0h160v-160H620v160ZM180-180h160v-160H180v160Zm440 0h160v-160H620v160Z\"/>\n",
              "  </svg>\n",
              "    </button>\n",
              "\n",
              "  <style>\n",
              "    .colab-df-container {\n",
              "      display:flex;\n",
              "      gap: 12px;\n",
              "    }\n",
              "\n",
              "    .colab-df-convert {\n",
              "      background-color: #E8F0FE;\n",
              "      border: none;\n",
              "      border-radius: 50%;\n",
              "      cursor: pointer;\n",
              "      display: none;\n",
              "      fill: #1967D2;\n",
              "      height: 32px;\n",
              "      padding: 0 0 0 0;\n",
              "      width: 32px;\n",
              "    }\n",
              "\n",
              "    .colab-df-convert:hover {\n",
              "      background-color: #E2EBFA;\n",
              "      box-shadow: 0px 1px 2px rgba(60, 64, 67, 0.3), 0px 1px 3px 1px rgba(60, 64, 67, 0.15);\n",
              "      fill: #174EA6;\n",
              "    }\n",
              "\n",
              "    .colab-df-buttons div {\n",
              "      margin-bottom: 4px;\n",
              "    }\n",
              "\n",
              "    [theme=dark] .colab-df-convert {\n",
              "      background-color: #3B4455;\n",
              "      fill: #D2E3FC;\n",
              "    }\n",
              "\n",
              "    [theme=dark] .colab-df-convert:hover {\n",
              "      background-color: #434B5C;\n",
              "      box-shadow: 0px 1px 3px 1px rgba(0, 0, 0, 0.15);\n",
              "      filter: drop-shadow(0px 1px 2px rgba(0, 0, 0, 0.3));\n",
              "      fill: #FFFFFF;\n",
              "    }\n",
              "  </style>\n",
              "\n",
              "    <script>\n",
              "      const buttonEl =\n",
              "        document.querySelector('#df-0b72e9f9-81f7-4a70-a92f-f36f4d8d8b0d button.colab-df-convert');\n",
              "      buttonEl.style.display =\n",
              "        google.colab.kernel.accessAllowed ? 'block' : 'none';\n",
              "\n",
              "      async function convertToInteractive(key) {\n",
              "        const element = document.querySelector('#df-0b72e9f9-81f7-4a70-a92f-f36f4d8d8b0d');\n",
              "        const dataTable =\n",
              "          await google.colab.kernel.invokeFunction('convertToInteractive',\n",
              "                                                    [key], {});\n",
              "        if (!dataTable) return;\n",
              "\n",
              "        const docLinkHtml = 'Like what you see? Visit the ' +\n",
              "          '<a target=\"_blank\" href=https://colab.research.google.com/notebooks/data_table.ipynb>data table notebook</a>'\n",
              "          + ' to learn more about interactive tables.';\n",
              "        element.innerHTML = '';\n",
              "        dataTable['output_type'] = 'display_data';\n",
              "        await google.colab.output.renderOutput(dataTable, element);\n",
              "        const docLink = document.createElement('div');\n",
              "        docLink.innerHTML = docLinkHtml;\n",
              "        element.appendChild(docLink);\n",
              "      }\n",
              "    </script>\n",
              "  </div>\n",
              "\n",
              "\n",
              "<div id=\"df-8fc7b953-d9f9-4e89-a899-faa7aba1fe8f\">\n",
              "  <button class=\"colab-df-quickchart\" onclick=\"quickchart('df-8fc7b953-d9f9-4e89-a899-faa7aba1fe8f')\"\n",
              "            title=\"Suggest charts.\"\n",
              "            style=\"display:none;\">\n",
              "\n",
              "<svg xmlns=\"http://www.w3.org/2000/svg\" height=\"24px\"viewBox=\"0 0 24 24\"\n",
              "     width=\"24px\">\n",
              "    <g>\n",
              "        <path d=\"M19 3H5c-1.1 0-2 .9-2 2v14c0 1.1.9 2 2 2h14c1.1 0 2-.9 2-2V5c0-1.1-.9-2-2-2zM9 17H7v-7h2v7zm4 0h-2V7h2v10zm4 0h-2v-4h2v4z\"/>\n",
              "    </g>\n",
              "</svg>\n",
              "  </button>\n",
              "\n",
              "<style>\n",
              "  .colab-df-quickchart {\n",
              "      --bg-color: #E8F0FE;\n",
              "      --fill-color: #1967D2;\n",
              "      --hover-bg-color: #E2EBFA;\n",
              "      --hover-fill-color: #174EA6;\n",
              "      --disabled-fill-color: #AAA;\n",
              "      --disabled-bg-color: #DDD;\n",
              "  }\n",
              "\n",
              "  [theme=dark] .colab-df-quickchart {\n",
              "      --bg-color: #3B4455;\n",
              "      --fill-color: #D2E3FC;\n",
              "      --hover-bg-color: #434B5C;\n",
              "      --hover-fill-color: #FFFFFF;\n",
              "      --disabled-bg-color: #3B4455;\n",
              "      --disabled-fill-color: #666;\n",
              "  }\n",
              "\n",
              "  .colab-df-quickchart {\n",
              "    background-color: var(--bg-color);\n",
              "    border: none;\n",
              "    border-radius: 50%;\n",
              "    cursor: pointer;\n",
              "    display: none;\n",
              "    fill: var(--fill-color);\n",
              "    height: 32px;\n",
              "    padding: 0;\n",
              "    width: 32px;\n",
              "  }\n",
              "\n",
              "  .colab-df-quickchart:hover {\n",
              "    background-color: var(--hover-bg-color);\n",
              "    box-shadow: 0 1px 2px rgba(60, 64, 67, 0.3), 0 1px 3px 1px rgba(60, 64, 67, 0.15);\n",
              "    fill: var(--button-hover-fill-color);\n",
              "  }\n",
              "\n",
              "  .colab-df-quickchart-complete:disabled,\n",
              "  .colab-df-quickchart-complete:disabled:hover {\n",
              "    background-color: var(--disabled-bg-color);\n",
              "    fill: var(--disabled-fill-color);\n",
              "    box-shadow: none;\n",
              "  }\n",
              "\n",
              "  .colab-df-spinner {\n",
              "    border: 2px solid var(--fill-color);\n",
              "    border-color: transparent;\n",
              "    border-bottom-color: var(--fill-color);\n",
              "    animation:\n",
              "      spin 1s steps(1) infinite;\n",
              "  }\n",
              "\n",
              "  @keyframes spin {\n",
              "    0% {\n",
              "      border-color: transparent;\n",
              "      border-bottom-color: var(--fill-color);\n",
              "      border-left-color: var(--fill-color);\n",
              "    }\n",
              "    20% {\n",
              "      border-color: transparent;\n",
              "      border-left-color: var(--fill-color);\n",
              "      border-top-color: var(--fill-color);\n",
              "    }\n",
              "    30% {\n",
              "      border-color: transparent;\n",
              "      border-left-color: var(--fill-color);\n",
              "      border-top-color: var(--fill-color);\n",
              "      border-right-color: var(--fill-color);\n",
              "    }\n",
              "    40% {\n",
              "      border-color: transparent;\n",
              "      border-right-color: var(--fill-color);\n",
              "      border-top-color: var(--fill-color);\n",
              "    }\n",
              "    60% {\n",
              "      border-color: transparent;\n",
              "      border-right-color: var(--fill-color);\n",
              "    }\n",
              "    80% {\n",
              "      border-color: transparent;\n",
              "      border-right-color: var(--fill-color);\n",
              "      border-bottom-color: var(--fill-color);\n",
              "    }\n",
              "    90% {\n",
              "      border-color: transparent;\n",
              "      border-bottom-color: var(--fill-color);\n",
              "    }\n",
              "  }\n",
              "</style>\n",
              "\n",
              "  <script>\n",
              "    async function quickchart(key) {\n",
              "      const quickchartButtonEl =\n",
              "        document.querySelector('#' + key + ' button');\n",
              "      quickchartButtonEl.disabled = true;  // To prevent multiple clicks.\n",
              "      quickchartButtonEl.classList.add('colab-df-spinner');\n",
              "      try {\n",
              "        const charts = await google.colab.kernel.invokeFunction(\n",
              "            'suggestCharts', [key], {});\n",
              "      } catch (error) {\n",
              "        console.error('Error during call to suggestCharts:', error);\n",
              "      }\n",
              "      quickchartButtonEl.classList.remove('colab-df-spinner');\n",
              "      quickchartButtonEl.classList.add('colab-df-quickchart-complete');\n",
              "    }\n",
              "    (() => {\n",
              "      let quickchartButtonEl =\n",
              "        document.querySelector('#df-8fc7b953-d9f9-4e89-a899-faa7aba1fe8f button');\n",
              "      quickchartButtonEl.style.display =\n",
              "        google.colab.kernel.accessAllowed ? 'block' : 'none';\n",
              "    })();\n",
              "  </script>\n",
              "</div>\n",
              "    </div>\n",
              "  </div>\n"
            ]
          },
          "metadata": {},
          "execution_count": 2012
        }
      ]
    },
    {
      "cell_type": "markdown",
      "source": [
        "Pada data ini terdapat hubungan antara berbagai kolom deskripsi terhadap tingkat stress seseorang. Tingkat stress ini dibagi menjadi 5 (0 - low/normal, 1 – medium low, 2 - medium, 3 - medium high, 4 - high).\n",
        "\n",
        "1. 'sr' atau 'snoring_rate': Kecepatan atau intensitas mendengkur saat tidur, yang dapat diukur dalam satuan atau skala tertentu.\n",
        "2. 'rr' atau 'respiration_rate': Jumlah napas yang diambil per menit saat tidur.\n",
        "3. 't' atau 'body_temperature': Suhu tubuh pengguna saat tidur, kemungkinan diukur dalam derajat Celcius atau Fahrenheit.\n",
        "4. 'lm' atau 'limb_movement': Kecepatan atau intensitas gerakan anggota tubuh saat tidur, yang menunjukkan seberapa aktif atau gelisah orang tersebut.\n",
        "5. 'bo' atau 'blood_oxygen': Tingkat oksigen darah, yang mewakili jumlah oksigen yang ada dalam darah selama tidur.\n",
        "6. 'rem' atau 'eye_movement': Aktivitas pergerakan mata saat tidur, yang mungkin mengindikasikan fase tidur Rapid Eye Movement (REM).\n",
        "7. 'sr.1' atau 'sleeping_hours': Jumlah jam tidur selama sesi tidur tertentu.\n",
        "8. 'hr' atau 'heart_rate': Jumlah detak jantung per menit saat tidur, merupakan parameter fisiologis penting yang terkait dengan kesehatan dan kualitas tidur secara keseluruhan.\n",
        "9. 'sl' atau 'stress_level': Variabel target yang mewakili tingkat stres selama tidur"
      ],
      "metadata": {
        "id": "l93T1eOJbsKc"
      }
    },
    {
      "cell_type": "code",
      "source": [
        "data.info()"
      ],
      "metadata": {
        "colab": {
          "base_uri": "https://localhost:8080/"
        },
        "id": "teM042tnR04K",
        "outputId": "63fbf26a-4b2b-4965-846c-031927bbab85"
      },
      "execution_count": 2013,
      "outputs": [
        {
          "output_type": "stream",
          "name": "stdout",
          "text": [
            "<class 'pandas.core.frame.DataFrame'>\n",
            "RangeIndex: 629 entries, 0 to 628\n",
            "Data columns (total 9 columns):\n",
            " #   Column            Non-Null Count  Dtype  \n",
            "---  ------            --------------  -----  \n",
            " 0   snoring_rate      629 non-null    float64\n",
            " 1   respiration_rate  629 non-null    float64\n",
            " 2   body_temperature  629 non-null    float64\n",
            " 3   limb_movement     629 non-null    float64\n",
            " 4   blood_oxygen      629 non-null    float64\n",
            " 5   eye_movement      629 non-null    float64\n",
            " 6   sleeping_hours    629 non-null    float64\n",
            " 7   heart_rate        629 non-null    float64\n",
            " 8   stress_level      629 non-null    int64  \n",
            "dtypes: float64(8), int64(1)\n",
            "memory usage: 44.4 KB\n"
          ]
        }
      ]
    },
    {
      "cell_type": "code",
      "source": [
        "# Memeriksa nilai null dalam dataframe\n",
        "data.isnull().any()"
      ],
      "metadata": {
        "colab": {
          "base_uri": "https://localhost:8080/"
        },
        "id": "-MQ49mYEa0wp",
        "outputId": "25ce7c4c-5b01-486c-c9d4-1fcf628cfb89"
      },
      "execution_count": 2014,
      "outputs": [
        {
          "output_type": "execute_result",
          "data": {
            "text/plain": [
              "snoring_rate        False\n",
              "respiration_rate    False\n",
              "body_temperature    False\n",
              "limb_movement       False\n",
              "blood_oxygen        False\n",
              "eye_movement        False\n",
              "sleeping_hours      False\n",
              "heart_rate          False\n",
              "stress_level        False\n",
              "dtype: bool"
            ]
          },
          "metadata": {},
          "execution_count": 2014
        }
      ]
    },
    {
      "cell_type": "markdown",
      "source": [
        "Output dari baris data.isnull().any() menunjukkan bahwa tidak ada nilai yang hilang di kolom mana pun dari kumpulan data sehingga tidak ada baris yang perlu dieliminasi"
      ],
      "metadata": {
        "id": "e19cRs0F2SJE"
      }
    },
    {
      "cell_type": "markdown",
      "source": [
        "**SPLITTING THE DATA INTO TRAIN AND TEST DATASETS (80 : 20)**"
      ],
      "metadata": {
        "id": "nG3kLpJ0bxYH"
      }
    },
    {
      "cell_type": "code",
      "source": [
        "# Mendefinisikan atribut independen dan dependen dalam set pelatihan dan pengujian\n",
        "X = data.drop([\"stress_level\"], axis=1)\n",
        "y = data[\"stress_level\"]"
      ],
      "metadata": {
        "id": "Xwk0itLduOr3"
      },
      "execution_count": 2015,
      "outputs": []
    },
    {
      "cell_type": "markdown",
      "source": [
        "- x_data : kolom (fitur untuk memprediksi tipe_kelas) untuk pelatihan.\n",
        "- y_data : kolom untuk membandingkan dengan hasil prediksi."
      ],
      "metadata": {
        "id": "0cLdlBPxB1-k"
      }
    },
    {
      "cell_type": "code",
      "source": [
        "# Membagi data menjadi set pelatihan dan pengujian (80% pelatihan, 20% pengujian)\n",
        "X_train, X_test, y_train,y_test = train_test_split(X,y,test_size=0.20,random_state=8)\n",
        "X_train.shape, X_test.shape\n",
        "\n",
        "print(X_train)"
      ],
      "metadata": {
        "colab": {
          "base_uri": "https://localhost:8080/"
        },
        "id": "eGmF7VLNcB4V",
        "outputId": "15edcfc4-648c-494c-8155-4126d9a61e0f"
      },
      "execution_count": 2016,
      "outputs": [
        {
          "output_type": "stream",
          "name": "stdout",
          "text": [
            "     snoring_rate  respiration_rate  body_temperature  limb_movement  \\\n",
            "158        96.320            26.320            85.400         17.160   \n",
            "605        94.040            25.744            91.872         16.680   \n",
            "84         68.320            20.832            92.832         10.832   \n",
            "415        45.720            16.288            96.432          4.576   \n",
            "445        97.984            27.984            87.480         17.992   \n",
            "..            ...               ...               ...            ...   \n",
            "136        48.360            17.344            98.016          6.688   \n",
            "133        92.720            25.392            91.696         16.240   \n",
            "361        52.000            18.400            94.400          8.400   \n",
            "340        45.600            16.240            96.360          4.480   \n",
            "451        87.920            24.112            91.056         14.640   \n",
            "\n",
            "     blood_oxygen  eye_movement  sleeping_hours  heart_rate  \n",
            "158        82.480        100.40           0.000       75.80  \n",
            "605        89.872         99.68           1.872       74.36  \n",
            "84         90.832         89.16           3.248       62.08  \n",
            "415        95.288         62.88           7.288       50.72  \n",
            "445        84.976        102.48           0.000       79.96  \n",
            "..            ...           ...             ...         ...  \n",
            "136        96.344         73.44           8.344       53.36  \n",
            "133        89.696         99.24           1.696       73.48  \n",
            "361        92.600         81.00           5.400       56.00  \n",
            "340        95.240         62.40           7.240       50.60  \n",
            "451        89.056         97.64           1.056       70.28  \n",
            "\n",
            "[503 rows x 8 columns]\n"
          ]
        }
      ]
    },
    {
      "cell_type": "code",
      "source": [
        "print(y_train)"
      ],
      "metadata": {
        "colab": {
          "base_uri": "https://localhost:8080/"
        },
        "id": "2AfNwGghc7Mo",
        "outputId": "c18bb6df-3bde-4730-e7ec-0a2910b42170"
      },
      "execution_count": 2017,
      "outputs": [
        {
          "output_type": "stream",
          "name": "stdout",
          "text": [
            "158    4\n",
            "605    3\n",
            "84     2\n",
            "415    0\n",
            "445    4\n",
            "      ..\n",
            "136    0\n",
            "133    3\n",
            "361    1\n",
            "340    0\n",
            "451    3\n",
            "Name: stress_level, Length: 503, dtype: int64\n"
          ]
        }
      ]
    },
    {
      "cell_type": "markdown",
      "source": [
        "### **PRA-PEMROSESAN DATA**"
      ],
      "metadata": {
        "id": "UatpES8-Soeh"
      }
    },
    {
      "cell_type": "markdown",
      "source": [
        "Menormalisasi data: scaling fitur-fitur ke dalam rentang [0, 1]"
      ],
      "metadata": {
        "id": "8bS1sY8cJra2"
      }
    },
    {
      "cell_type": "code",
      "source": [
        "from sklearn.preprocessing import StandardScaler\n",
        "\n",
        "scaler = StandardScaler()\n",
        "\n",
        "# Fit only to the training data\n",
        "scaler.fit(X_train)\n",
        "\n",
        "# Now apply the transformations to both training and test data\n",
        "X_train = scaler.transform(X_train)\n",
        "X_test = scaler.transform(X_test)"
      ],
      "metadata": {
        "id": "n80PADpAJt7s"
      },
      "execution_count": 2018,
      "outputs": []
    },
    {
      "cell_type": "markdown",
      "source": [
        "Mengonversikan label kategori/kelas ke bentuk one-hot encoding"
      ],
      "metadata": {
        "id": "nthmZdyjJu2u"
      }
    },
    {
      "cell_type": "code",
      "source": [
        "from tensorflow.keras.utils import to_categorical\n",
        "\n",
        "y_train_before = y_train\n",
        "y_test_before = y_test\n",
        "\n",
        "n_output = np.unique(y_train).shape[0]\n",
        "y_train = to_categorical(y_train, n_output)\n",
        "y_test  = to_categorical(y_test, n_output)\n",
        "\n",
        "print(y_train)"
      ],
      "metadata": {
        "id": "HA9UrTBLJtCy",
        "colab": {
          "base_uri": "https://localhost:8080/"
        },
        "outputId": "8c2133ec-30d1-4e13-8a81-7b77a3562673"
      },
      "execution_count": 2019,
      "outputs": [
        {
          "output_type": "stream",
          "name": "stdout",
          "text": [
            "[[0. 0. 0. 0. 1.]\n",
            " [0. 0. 0. 1. 0.]\n",
            " [0. 0. 1. 0. 0.]\n",
            " ...\n",
            " [0. 1. 0. 0. 0.]\n",
            " [1. 0. 0. 0. 0.]\n",
            " [0. 0. 0. 1. 0.]]\n"
          ]
        }
      ]
    },
    {
      "cell_type": "markdown",
      "source": [
        "### **MEMBANGUN MODEL MLP 2 LAPIS**"
      ],
      "metadata": {
        "id": "jEuZkAsHDLFc"
      }
    },
    {
      "cell_type": "markdown",
      "source": [
        "− Metrik untuk mengukur performa model:\n",
        "accuracy metric  umum digunakan untuk mengukur kinerja model klasifikasi khususnya pada multikelas\n",
        "\n",
        "− Fungsi rugi (cost function):\n",
        "Categorical crossentropy merupakan fungsi rugi yang sesuai untuk tugas klasifikasi multikelas. Fungsi ini mengukur sejauh mana distribusi probabilitas yang dihasilkan oleh model cocok dengan distribusi probabilitas yang sesungguhnya dari kelas-kelas yang benar.\n",
        "\n",
        "− Optimizer :\n",
        "Adam adalah algoritma optimisasi yang umumnya digunakan dalam pelatihan model jaringan saraf tiruan. Adam bersifat adaptif yang berarti secara otomatis menyesuaikan laju pembelajaran (learning rate) selama pelatihan untuk mempercepat konvergensi model."
      ],
      "metadata": {
        "id": "i5IkYj3GybKg"
      }
    },
    {
      "cell_type": "code",
      "source": [
        "from tensorflow.keras.models import Sequential\n",
        "from tensorflow.keras.layers import Dense, Dropout, InputLayer"
      ],
      "metadata": {
        "id": "45s7eEokeULa"
      },
      "execution_count": 2020,
      "outputs": []
    },
    {
      "cell_type": "code",
      "source": [
        "model=Sequential()\n",
        "\n",
        "# hidden layer 1\n",
        "model.add(Dense(15, activation=\"relu\"))\n",
        "# hidden layer 2\n",
        "model.add(Dense(15, activation=\"relu\"))\n",
        "# output layer\n",
        "model.add(Dense(n_output, \"softmax\"))"
      ],
      "metadata": {
        "id": "ooy8G3vIejmq"
      },
      "execution_count": 2021,
      "outputs": []
    },
    {
      "cell_type": "code",
      "source": [
        "epochs=30\n",
        "model.compile(loss='categorical_crossentropy', optimizer='adam', metrics=['accuracy'])"
      ],
      "metadata": {
        "id": "bRQZcJ9QfN9K"
      },
      "execution_count": 2022,
      "outputs": []
    },
    {
      "cell_type": "markdown",
      "source": [
        "Pada proses klasifikasi MLP ini, kami menggunakan 2 hidden layers dengan 15 nodes dan 'ReLU' sebagai aktivasi dari setiap layer"
      ],
      "metadata": {
        "id": "rhWRGXDf67s2"
      }
    },
    {
      "cell_type": "markdown",
      "source": [
        "###**MELATIH MODEL**"
      ],
      "metadata": {
        "id": "6P05Mj6zDP1C"
      }
    },
    {
      "cell_type": "code",
      "source": [
        "from tensorflow import keras\n",
        "callback = keras.callbacks.EarlyStopping(monitor='loss', patience=3)\n",
        "Model1 = model.fit(X_train, y_train, epochs=epochs, batch_size=64,validation_split=0.2,callbacks=[callback],verbose=1)"
      ],
      "metadata": {
        "colab": {
          "base_uri": "https://localhost:8080/"
        },
        "id": "4SuEn5pffQ1g",
        "outputId": "5abe2c42-e29a-4034-e17e-8cfd41a22494"
      },
      "execution_count": 2023,
      "outputs": [
        {
          "output_type": "stream",
          "name": "stdout",
          "text": [
            "Epoch 1/30\n",
            "7/7 [==============================] - 1s 45ms/step - loss: 1.6689 - accuracy: 0.2388 - val_loss: 1.5656 - val_accuracy: 0.2970\n",
            "Epoch 2/30\n",
            "7/7 [==============================] - 0s 10ms/step - loss: 1.5587 - accuracy: 0.2388 - val_loss: 1.4822 - val_accuracy: 0.3069\n",
            "Epoch 3/30\n",
            "7/7 [==============================] - 0s 8ms/step - loss: 1.4679 - accuracy: 0.2413 - val_loss: 1.4139 - val_accuracy: 0.3069\n",
            "Epoch 4/30\n",
            "7/7 [==============================] - 0s 9ms/step - loss: 1.3935 - accuracy: 0.3731 - val_loss: 1.3609 - val_accuracy: 0.3960\n",
            "Epoch 5/30\n",
            "7/7 [==============================] - 0s 11ms/step - loss: 1.3327 - accuracy: 0.4254 - val_loss: 1.3150 - val_accuracy: 0.4158\n",
            "Epoch 6/30\n",
            "7/7 [==============================] - 0s 11ms/step - loss: 1.2821 - accuracy: 0.5100 - val_loss: 1.2693 - val_accuracy: 0.5743\n",
            "Epoch 7/30\n",
            "7/7 [==============================] - 0s 9ms/step - loss: 1.2350 - accuracy: 0.6766 - val_loss: 1.2253 - val_accuracy: 0.6733\n",
            "Epoch 8/30\n",
            "7/7 [==============================] - 0s 11ms/step - loss: 1.1940 - accuracy: 0.7214 - val_loss: 1.1866 - val_accuracy: 0.6931\n",
            "Epoch 9/30\n",
            "7/7 [==============================] - 0s 12ms/step - loss: 1.1545 - accuracy: 0.7463 - val_loss: 1.1440 - val_accuracy: 0.7030\n",
            "Epoch 10/30\n",
            "7/7 [==============================] - 0s 11ms/step - loss: 1.1155 - accuracy: 0.7637 - val_loss: 1.1018 - val_accuracy: 0.7129\n",
            "Epoch 11/30\n",
            "7/7 [==============================] - 0s 11ms/step - loss: 1.0779 - accuracy: 0.7761 - val_loss: 1.0610 - val_accuracy: 0.7228\n",
            "Epoch 12/30\n",
            "7/7 [==============================] - 0s 13ms/step - loss: 1.0394 - accuracy: 0.8134 - val_loss: 1.0206 - val_accuracy: 0.7921\n",
            "Epoch 13/30\n",
            "7/7 [==============================] - 0s 11ms/step - loss: 1.0003 - accuracy: 0.8557 - val_loss: 0.9824 - val_accuracy: 0.8020\n",
            "Epoch 14/30\n",
            "7/7 [==============================] - 0s 13ms/step - loss: 0.9604 - accuracy: 0.8408 - val_loss: 0.9438 - val_accuracy: 0.8020\n",
            "Epoch 15/30\n",
            "7/7 [==============================] - 0s 9ms/step - loss: 0.9199 - accuracy: 0.8159 - val_loss: 0.9014 - val_accuracy: 0.7723\n",
            "Epoch 16/30\n",
            "7/7 [==============================] - 0s 10ms/step - loss: 0.8773 - accuracy: 0.8134 - val_loss: 0.8561 - val_accuracy: 0.8020\n",
            "Epoch 17/30\n",
            "7/7 [==============================] - 0s 9ms/step - loss: 0.8372 - accuracy: 0.8284 - val_loss: 0.8119 - val_accuracy: 0.8515\n",
            "Epoch 18/30\n",
            "7/7 [==============================] - 0s 11ms/step - loss: 0.7964 - accuracy: 0.8433 - val_loss: 0.7728 - val_accuracy: 0.8416\n",
            "Epoch 19/30\n",
            "7/7 [==============================] - 0s 9ms/step - loss: 0.7574 - accuracy: 0.8458 - val_loss: 0.7359 - val_accuracy: 0.8416\n",
            "Epoch 20/30\n",
            "7/7 [==============================] - 0s 9ms/step - loss: 0.7220 - accuracy: 0.8433 - val_loss: 0.7014 - val_accuracy: 0.8416\n",
            "Epoch 21/30\n",
            "7/7 [==============================] - 0s 10ms/step - loss: 0.6872 - accuracy: 0.8507 - val_loss: 0.6690 - val_accuracy: 0.8515\n",
            "Epoch 22/30\n",
            "7/7 [==============================] - 0s 14ms/step - loss: 0.6549 - accuracy: 0.8557 - val_loss: 0.6387 - val_accuracy: 0.8614\n",
            "Epoch 23/30\n",
            "7/7 [==============================] - 0s 13ms/step - loss: 0.6248 - accuracy: 0.8607 - val_loss: 0.6096 - val_accuracy: 0.8713\n",
            "Epoch 24/30\n",
            "7/7 [==============================] - 0s 9ms/step - loss: 0.5954 - accuracy: 0.8980 - val_loss: 0.5804 - val_accuracy: 0.8911\n",
            "Epoch 25/30\n",
            "7/7 [==============================] - 0s 11ms/step - loss: 0.5677 - accuracy: 0.9129 - val_loss: 0.5546 - val_accuracy: 0.8911\n",
            "Epoch 26/30\n",
            "7/7 [==============================] - 0s 13ms/step - loss: 0.5406 - accuracy: 0.9229 - val_loss: 0.5300 - val_accuracy: 0.8911\n",
            "Epoch 27/30\n",
            "7/7 [==============================] - 0s 9ms/step - loss: 0.5148 - accuracy: 0.9279 - val_loss: 0.5055 - val_accuracy: 0.9109\n",
            "Epoch 28/30\n",
            "7/7 [==============================] - 0s 11ms/step - loss: 0.4897 - accuracy: 0.9403 - val_loss: 0.4808 - val_accuracy: 0.9505\n",
            "Epoch 29/30\n",
            "7/7 [==============================] - 0s 9ms/step - loss: 0.4653 - accuracy: 0.9478 - val_loss: 0.4568 - val_accuracy: 0.9703\n",
            "Epoch 30/30\n",
            "7/7 [==============================] - 0s 11ms/step - loss: 0.4414 - accuracy: 0.9478 - val_loss: 0.4356 - val_accuracy: 0.9703\n"
          ]
        }
      ]
    },
    {
      "cell_type": "markdown",
      "source": [
        "Berdasarkan monitoring akurasi dan kerugian pada data validasi selama pelatihan, dapat diketahui bahwa semakin tinggi epoch atau iterasi yang dilakukan maka akurasi akan semakin meningkat dan besarnya kerugian semakin mengecil"
      ],
      "metadata": {
        "id": "maPk2XhC-cR-"
      }
    },
    {
      "cell_type": "markdown",
      "source": [
        "###**EVALUASI MODEL**"
      ],
      "metadata": {
        "id": "CILqVepGDY1l"
      }
    },
    {
      "cell_type": "markdown",
      "source": [
        "Mengevaluasi model dengan data_test"
      ],
      "metadata": {
        "id": "JPado2MvfsGt"
      }
    },
    {
      "cell_type": "code",
      "source": [
        "accuracy = model.evaluate(X_test, y_test)"
      ],
      "metadata": {
        "colab": {
          "base_uri": "https://localhost:8080/"
        },
        "id": "PslwAo32f1-g",
        "outputId": "58747d70-9511-4b49-e29a-9d50dccdd432"
      },
      "execution_count": 2024,
      "outputs": [
        {
          "output_type": "stream",
          "name": "stdout",
          "text": [
            "4/4 [==============================] - 0s 4ms/step - loss: 0.4185 - accuracy: 0.9762\n"
          ]
        }
      ]
    },
    {
      "cell_type": "markdown",
      "source": [
        "Menghitung confusion matrix dan menganalisa metrik kinerja modelnya"
      ],
      "metadata": {
        "id": "zr0JBJw7ggi-"
      }
    },
    {
      "cell_type": "code",
      "source": [
        "y_pred = model.predict(X_test)\n",
        "y_pred = np.argmax(y_pred,axis=1)"
      ],
      "metadata": {
        "colab": {
          "base_uri": "https://localhost:8080/"
        },
        "id": "i3eXOBgOkq68",
        "outputId": "9d6b1e50-51f5-438f-d00f-177856e5cc2c"
      },
      "execution_count": 2025,
      "outputs": [
        {
          "output_type": "stream",
          "name": "stdout",
          "text": [
            "4/4 [==============================] - 0s 4ms/step\n"
          ]
        }
      ]
    },
    {
      "cell_type": "code",
      "source": [
        "from sklearn.metrics import confusion_matrix, classification_report\n",
        "\n",
        "cm = confusion_matrix(y_test_before, y_pred)\n",
        "p = sns.heatmap(pd.DataFrame(cm), annot=True, cmap=\"YlGnBu\" ,fmt='g')\n",
        "plt.title('Confusion matrix', y=1.1)\n",
        "plt.ylabel('Actual label')\n",
        "plt.xlabel('Predicted label')"
      ],
      "metadata": {
        "colab": {
          "base_uri": "https://localhost:8080/",
          "height": 527
        },
        "id": "Gg7e9Jvbk8GB",
        "outputId": "f0c70a81-8842-47a0-b300-11757c62d3fa"
      },
      "execution_count": 2026,
      "outputs": [
        {
          "output_type": "execute_result",
          "data": {
            "text/plain": [
              "Text(0.5, 23.52222222222222, 'Predicted label')"
            ]
          },
          "metadata": {},
          "execution_count": 2026
        },
        {
          "output_type": "display_data",
          "data": {
            "text/plain": [
              "<Figure size 640x480 with 2 Axes>"
            ],
            "image/png": "[encoded data removed]"
          },
          "metadata": {}
        }
      ]
    },
    {
      "cell_type": "markdown",
      "source": [
        "Confusion matriks ini menjelaskan terkait pertimbangan masalah klasifikasi dua kelas. Nilai diagonal utama adalah nilai prediksi yang benar, sedangkan nilai di luar diagonal tersebut adalah nilai prediksi yang salah."
      ],
      "metadata": {
        "id": "44CRM0MUAEIr"
      }
    },
    {
      "cell_type": "code",
      "source": [
        "print(classification_report(y_test_before, y_pred))"
      ],
      "metadata": {
        "colab": {
          "base_uri": "https://localhost:8080/"
        },
        "id": "ATKPBg4iJVXQ",
        "outputId": "740d7b8b-ae9b-4be9-bcb3-b16f5fe5aba6"
      },
      "execution_count": 2027,
      "outputs": [
        {
          "output_type": "stream",
          "name": "stdout",
          "text": [
            "              precision    recall  f1-score   support\n",
            "\n",
            "           0       1.00      1.00      1.00        27\n",
            "           1       1.00      1.00      1.00        24\n",
            "           2       1.00      1.00      1.00        25\n",
            "           3       1.00      0.88      0.93        24\n",
            "           4       0.90      1.00      0.95        26\n",
            "\n",
            "    accuracy                           0.98       126\n",
            "   macro avg       0.98      0.97      0.98       126\n",
            "weighted avg       0.98      0.98      0.98       126\n",
            "\n"
          ]
        }
      ]
    },
    {
      "cell_type": "markdown",
      "source": [
        "Akurasi, presisi, recall, and F1-score adalah metrik penting untuk mengevaluasi performa model, terutama dalam masalah klasifikasi multi-class. Metrik ini memberikan wawasan tentang seberapa baik kinerja model untuk setiap kelas dan keakuratan klasifikasinya secara keseluruhan dimana pada projek ini terlihat bahwa tingkat akurasi, presisi, dan F1-score yang tinggi menandakan performa model telah bekerja dengan baik."
      ],
      "metadata": {
        "id": "pNiIyqHk5-W7"
      }
    },
    {
      "cell_type": "markdown",
      "source": [
        "###**PREDIKSI**"
      ],
      "metadata": {
        "id": "euZS4lu6DbxA"
      }
    },
    {
      "cell_type": "code",
      "source": [
        "# Data baru yang diberikan\n",
        "new_data1 = pd.DataFrame({\n",
        "    'snoring_rate': [45.280],\n",
        "    'respiration_rate': [16.112],\n",
        "    'body_temperature': [96.186],\n",
        "    'limb_movement': [4.224],\n",
        "    'blood_oxygen': [95.112],\n",
        "    'eye_movement': [61.12],\n",
        "    'sleeping_hours': [7.112],\n",
        "    'heart_rate': [50.28]})\n",
        "\n",
        "new_data2 = pd.DataFrame({\n",
        "    'snoring_rate': [96.288],\n",
        "    'respiration_rate': [26.288],\n",
        "    'body_temperature': [85.360],\n",
        "    'limb_movement': [17.144],\n",
        "    'blood_oxygen': [82.432],\n",
        "    'eye_movement': [100.36],\n",
        "    'sleeping_hours': [0.00],\n",
        "    'heart_rate': [75.72]})\n",
        "\n",
        "# Lakukan penskalaan pada data baru\n",
        "new_data_scaled1 = scaler.transform(new_data1)\n",
        "new_data_scaled2 = scaler.transform(new_data2)\n",
        "\n",
        "# Gunakan model untuk melakukan prediksi\n",
        "predictions1 = model.predict(new_data_scaled1)\n",
        "predictions2 = model.predict(new_data_scaled2)\n",
        "\n",
        "# Hasil prediksi berupa probabilitas kelas stres, Anda dapat mengambil kelas dengan probabilitas tertinggi\n",
        "predicted_class1 = np.argmax(predictions1)\n",
        "predicted_class2 = np.argmax(predictions2)\n",
        "\n",
        "# `predicted_class` adalah prediksi kelas stres untuk data baru yang diberikan\n",
        "print(f'Prediksi kelas stres untuk data baru 1: {predicted_class1}')\n",
        "print(f'Prediksi kelas stres untuk data baru 2: {predicted_class2}')"
      ],
      "metadata": {
        "id": "ap7JiKc5TSjf",
        "colab": {
          "base_uri": "https://localhost:8080/"
        },
        "outputId": "7160c44c-f95b-4782-bb9f-31aa919218ab"
      },
      "execution_count": 2028,
      "outputs": [
        {
          "output_type": "stream",
          "name": "stdout",
          "text": [
            "1/1 [==============================] - 0s 23ms/step\n",
            "1/1 [==============================] - 0s 24ms/step\n",
            "Prediksi kelas stres untuk data baru 1: 0\n",
            "Prediksi kelas stres untuk data baru 2: 4\n"
          ]
        }
      ]
    },
    {
      "cell_type": "markdown",
      "source": [
        "Dari data baru yang diinput, diketahui prediksi dari data pertama menunjukkan tingkat stress terendah(0) dan data kedua menunjukkan tingkat stress tertinggi(4). Hasil ini diperoleh dari proses pemodelan dengan tingkat akurasi yang tinggi sehingga dapat disimpulkan bahwa hasil prediksi  memiliki keakurasian yang tinggi pula.\n",
        "\n",
        "Pengaruh snoring, respiration, limb movement, eye movement, dan heart rate berbanding lurus dengan kelas stress. sedangkan body temperature, blood oxygen, dan sleeping hours berbanding terbalik dengan kelas stress."
      ],
      "metadata": {
        "id": "c2GrZnC5HmVc"
      }
    },
    {
      "cell_type": "markdown",
      "source": [
        "###**VISUALISASI HASIL**"
      ],
      "metadata": {
        "id": "g1Nod2pODeLb"
      }
    },
    {
      "cell_type": "code",
      "source": [
        "import matplotlib.pyplot as plot\n",
        "\n",
        "stats_data = pd.DataFrame(Model1.history)\n",
        "stats_data['epoch']=list(range(epochs))\n",
        "plot.figure(figsize=(10, 8))\n",
        "sns.lineplot(y='loss', x='epoch', data=stats_data, color='deeppink', linewidth=2.5, label=\"Training loss\")\n",
        "sns.lineplot(y='val_loss', x='epoch', data=stats_data, color='darkturquoise', linewidth=2.5, label=\"Validation loss\")\n",
        "plot.grid()\n",
        "plot.legend()\n",
        "plot.title(\"Training and validation loss\")\n",
        "plot.xticks(range(0, 51, 5));"
      ],
      "metadata": {
        "colab": {
          "base_uri": "https://localhost:8080/",
          "height": 718
        },
        "id": "iI91tbkTTiEs",
        "outputId": "98d559eb-31d7-4125-920c-12c9156c5ee7"
      },
      "execution_count": 2029,
      "outputs": [
        {
          "output_type": "display_data",
          "data": {
            "text/plain": [
              "<Figure size 1000x800 with 1 Axes>"
            ],
            "image/png": "[encoded data removed]"
          },
          "metadata": {}
        }
      ]
    },
    {
      "cell_type": "code",
      "source": [
        "stats_data=pd.DataFrame(Model1.history)\n",
        "stats_data['epoch']=list(range(epochs))\n",
        "plot.figure(figsize=(10, 8))\n",
        "sns.lineplot(y='accuracy', x='epoch', data=stats_data, color='deeppink', linewidth=2.5, label=\"Training accuracy\")\n",
        "sns.lineplot(y='val_accuracy', x='epoch', data=stats_data, color='darkturquoise', linewidth=2.5, \\\n",
        "            label=\"Validation accuracy\")\n",
        "plot.grid()\n",
        "plot.legend()\n",
        "plot.title(\"Training and validation accuracy\")\n",
        "plot.xticks(range(0, 51, 5));"
      ],
      "metadata": {
        "colab": {
          "base_uri": "https://localhost:8080/",
          "height": 718
        },
        "id": "w2-7_YkGn9kG",
        "outputId": "9a8b21d2-55f2-4594-9a65-fd45a83e16a6"
      },
      "execution_count": 2030,
      "outputs": [
        {
          "output_type": "display_data",
          "data": {
            "text/plain": [
              "<Figure size 1000x800 with 1 Axes>"
            ],
            "image/png": "[encoded data removed]"
          },
          "metadata": {}
        }
      ]
    },
    {
      "cell_type": "markdown",
      "source": [
        "##**LAPORAN TUGAS**"
      ],
      "metadata": {
        "id": "z9ucVHppDkD2"
      }
    },
    {
      "cell_type": "markdown",
      "source": [
        "**DESKRIPSI DATASET** <br>\n",
        "Dataset ini mengandung data fisiologis yang dikumpulkan dari individu dengan tujuan untuk mendeteksi tingkat stres yang dialami oleh manusia. Data ini mencakup sejumlah fitur yang berkaitan dengan fisiologi manusia, seperti tingkat pernapasan, suhu tubuh, gerakan anggota tubuh, tingkat oksigen dalam darah, gerakan mata, durasi tidur, denyut jantung, dan tingkat dengkuran. Selain itu, dataset juga mencakup label yang menunjukkan tingkat stres aktual dari setiap data pengamatan. Dataset ini digunakan untuk mengembangkan model machine learning, khususnya model jaringan saraf tiruan (neural network), yang bertujuan untuk melakukan klasifikasi tingkat stres berdasarkan data fisiologis yang tersedia."
      ],
      "metadata": {
        "id": "GHjx9EK-8u_0"
      }
    },
    {
      "cell_type": "markdown",
      "source": [
        "**ARSITEKTUR MODEL** <br>\n",
        "Dalam arsitektur yang dibentuk oleh jaringan perceptron multilayer, dalam project kami digunakan 2 hidden layer dengan masing-masing 15 neuron. Kami juga menggunakan activation ReLu pada hidden layer dan softmax pada output layer. Fungsi pengoptimal yang digunakan adalah \"adam\" dengan cost function adalah \"categorical crossentropy\"."
      ],
      "metadata": {
        "id": "g76jcWBG8vFr"
      }
    },
    {
      "cell_type": "markdown",
      "source": [
        "<Img src=\"https://drive.google.com/uc?id=1t0ti69B27fUyTn5JF6mmAHxdre2-KuwD\" width=700px>"
      ],
      "metadata": {
        "id": "3MhkV-iEO7zu"
      }
    },
    {
      "cell_type": "markdown",
      "source": [
        "**HASIL EVALUASI** <br>\n",
        "Hasil observasi ini menunjukkan bahwa coding tersebut adalah langkah-langkah umum dalam pengembangan model klasifikasi menggunakan jaringan saraf tiruan. Dalam hal ini, model digunakan untuk mengklasifikasikan tingkat stres berdasarkan data fisiologis, dan akurasi serta metrik evaluasi lainnya digunakan untuk mengukur kinerja model. Coding ini memberikan dasar yang baik untuk mengatasi masalah deteksi stres berdasarkan data fisiologis manusia.Model klasifikasi yang telah dibuat sudah bekerja dengan sangat baik. Hal ini ditunjukkan dari tingkat mendapatkan akurasi yang tinggi mencapai 95% sehingga dapat memprediksi tingkat stres dari data baru dengan akurat\n",
        "\n",
        "Apabila dilihat dari grafik Training dan Validation loss, dapat dilihat bahwa seiring dengan kenaikan iterasi/epoch maka tingkat perbedaan antara loss dari kedua data semakin mengecil. Selain itu, akurasi semakin meningkat dari 0,2388 pada epoch pertama menjadi 0,95 pada epoch ke 30. Hasil evaluasi yang telah dilakukan menghasilkan akurasi yang lebih tinggi dibandingkan dengan sebelumnya."
      ],
      "metadata": {
        "id": "-uXzK2iR8vLl"
      }
    },
    {
      "cell_type": "markdown",
      "source": [
        "**KESIMPULAN** <br>\n",
        "Model klasifikasi yang telah dibuat sudah bekerja dengan sangat baik. Hal ini ditunjukkan dari tingkat mendapatkan akurasi yang tinggi mencapai 95% sehingga dapat memprediksi tingkat stres dari data baru dengan akurat"
      ],
      "metadata": {
        "id": "-0g2g4B68Tzv"
      }
    },
    {
      "cell_type": "code",
      "source": [
        "%%shell\n",
        "jupyter nbconvert --to html /content/Kelompok_4_UTS_Projek_Klasifikasi_MLP.ipynb"
      ],
      "metadata": {
        "colab": {
          "base_uri": "https://localhost:8080/"
        },
        "id": "cNIhnfzlQvs8",
        "outputId": "7d14fe66-6a27-4228-fe8c-7ef4e75647fb"
      },
      "execution_count": 2035,
      "outputs": [
        {
          "output_type": "stream",
          "name": "stdout",
          "text": [
            "[NbConvertApp] Converting notebook /content/Kelompok_4_UTS_Projek_Klasifikasi_MLP.ipynb to html\n",
            "[NbConvertApp] Writing 798775 bytes to /content/Kelompok_4_UTS_Projek_Klasifikasi_MLP.html\n"
          ]
        },
        {
          "output_type": "execute_result",
          "data": {
            "text/plain": []
          },
          "metadata": {},
          "execution_count": 2035
        }
      ]
    }
  ]
}